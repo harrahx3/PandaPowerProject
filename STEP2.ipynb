{
 "cells": [
  {
   "cell_type": "code",
   "execution_count": 1,
   "id": "2755cf8a-8fd7-481a-9c08-aec75243539e",
   "metadata": {},
   "outputs": [
    {
     "data": {
      "text/plain": [
       "This pandapower network includes the following parameter tables:\n",
       "   - bus (15 elements)\n",
       "   - load (18 elements)\n",
       "   - switch (8 elements)\n",
       "   - ext_grid (1 element)\n",
       "   - line (15 elements)\n",
       "   - trafo (2 elements)\n",
       "   - bus_geodata (15 elements)"
      ]
     },
     "execution_count": 1,
     "metadata": {},
     "output_type": "execute_result"
    }
   ],
   "source": [
    "import pandapower.networks as pn\n",
    "import pandapower as pp\n",
    "net = pn.create_cigre_network_mv(with_der=False)\n",
    "net"
   ]
  },
  {
   "cell_type": "markdown",
   "id": "93a14f57-d52a-4248-b85b-be00a3d6641d",
   "metadata": {},
   "source": [
    "# STEP 2 : After the Charging Stations (CS) implementation and adding a load shape to the existent customers (time series simulation)\n",
    "\n",
    "## 2.1 How’s the state of the network if compared with step 1 ? Better, worse, same as before..."
   ]
  },
  {
   "cell_type": "code",
   "execution_count": 2,
   "id": "4026e3f6-b66e-46dc-b5e6-703f18406bb2",
   "metadata": {},
   "outputs": [
    {
     "data": {
      "text/plain": [
       "This pandapower network includes the following parameter tables:\n",
       "   - bus (20 elements)\n",
       "   - load (18 elements)\n",
       "   - switch (8 elements)\n",
       "   - ext_grid (1 element)\n",
       "   - line (15 elements)\n",
       "   - trafo (7 elements)\n",
       "   - bus_geodata (20 elements)"
      ]
     },
     "execution_count": 2,
     "metadata": {},
     "output_type": "execute_result"
    }
   ],
   "source": [
    "#create 5 new buses\n",
    "pp.create_bus(net, name='Bus CS1', vn_kv=0.4, type='b', geodata=((2,13))) \n",
    "pp.create_bus(net, name='Bus CS2', vn_kv=0.4, type='b', geodata=((1,9))) \n",
    "pp.create_bus(net, name='Bus CS3', vn_kv=0.4, type='b', geodata=((-1,3))) \n",
    "pp.create_bus(net, name='Bus CS4', vn_kv=0.4, type='b', geodata=((2,5))) \n",
    "pp.create_bus(net, name='Bus CS5', vn_kv=0.4, type='b', geodata=((12,5)))\n",
    "\n",
    "#create transformer between those new bus and bus 2, 4, 6, 12, 14 (choose randomly) \n",
    "pp.create_transformer(net, hv_bus=2, lv_bus=pp.get_element_index(net, 'bus', 'Bus CS1'), name = 'CS1', std_type='0.63 MVA 20/0.4 kV')   #why did you choose this type of transfo ? \n",
    "pp.create_transformer(net, hv_bus=4, lv_bus=pp.get_element_index(net, 'bus', 'Bus CS2'), name = 'CS2', std_type='0.63 MVA 20/0.4 kV')\n",
    "pp.create_transformer(net, hv_bus=6, lv_bus=pp.get_element_index(net, 'bus', 'Bus CS3'), name = 'CS3', std_type='0.63 MVA 20/0.4 kV')\n",
    "pp.create_transformer(net, hv_bus=10, lv_bus=pp.get_element_index(net, 'bus', 'Bus CS4'), name = 'CS4', std_type='0.63 MVA 20/0.4 kV')\n",
    "pp.create_transformer(net, hv_bus=14, lv_bus=pp.get_element_index(net, 'bus', 'Bus CS5'), name = 'CS5', std_type='0.63 MVA 20/0.4 kV')\n",
    "\n",
    "net"
   ]
  },
  {
   "cell_type": "code",
   "execution_count": 3,
   "id": "dec8809b-1c04-41e0-a65f-bf0e03a56e7e",
   "metadata": {},
   "outputs": [
    {
     "data": {
      "image/png": "[encoded data removed]",
      "text/plain": [
       "<Figure size 720x576 with 1 Axes>"
      ]
     },
     "metadata": {},
     "output_type": "display_data"
    }
   ],
   "source": [
    "import pandapower.plotting as pplt\n",
    "import matplotlib.pyplot as plt\n",
    "ax = pplt.simple_plot(net, show_plot = False)\n",
    "clc = pplt.create_line_collection(net,linewidth=3., use_bus_geodata= True)\n",
    "pplt.draw_collections([clc],ax=ax)\n",
    "plt.show()"
   ]
  },
  {
   "cell_type": "code",
   "execution_count": 4,
   "id": "0f632823-9767-424a-998f-4959b3af9fbe",
   "metadata": {},
   "outputs": [],
   "source": [
    "import os\n",
    "import numpy as np\n",
    "import pandas as pd\n",
    "import tempfile\n",
    "\n",
    "from pandapower.timeseries import DFData\n",
    "from pandapower.timeseries import OutputWriter\n",
    "from pandapower.timeseries.run_time_series import run_timeseries\n",
    "from pandapower.control import ConstControl\n",
    "\n",
    "load_shape = [0.28285, 0.272295, 0.2613828, 0.261328, 0.254316, 0.259789, 0.272966, 0.30915, 0.433979, 0.542955, 0.717333, 0.851829, 0.864118, 0.854116, 0.853815, 0.852508, 0.723452, 0.490362, 0.428271, 0.361402, 0.336596, 0.328176, 0.307331, 0.297966]\n"
   ]
  },
  {
   "cell_type": "code",
   "execution_count": 5,
   "id": "8dc7b4d6",
   "metadata": {},
   "outputs": [],
   "source": [
    "def create_data_source(n_timesteps=24):\n",
    "    profiles = pd.DataFrame()\n",
    "    for _, load in net.load.iterrows() :\n",
    "        profiles['p_mw_'+str(load.name)] = [l * load.p_mw for l in load_shape]\n",
    "        profiles['q_mvar_'+str(load.name)] = [l * load.q_mvar for l in load_shape]\n",
    "\n",
    "    ds = DFData(profiles)\n",
    "    return profiles, ds\n"
   ]
  },
  {
   "cell_type": "code",
   "execution_count": 6,
   "id": "bee0724f",
   "metadata": {},
   "outputs": [],
   "source": [
    "def create_controllers(net, ds):\n",
    "    ConstControl(net, element='load', variable='p_mw', element_index=[i for i, load in net.load.iterrows()], data_source=ds, profile_name=['p_mw_'+str(load.name) for i, load in net.load.iterrows()])\n",
    "    ConstControl(net, element='load', variable='q_mvar', element_index=[i for i, load in net.load.iterrows()], data_source=ds, profile_name=['q_mvar_'+str(load.name) for i, load in net.load.iterrows()])\n"
   ]
  },
  {
   "cell_type": "code",
   "execution_count": 7,
   "id": "28fdd7ca",
   "metadata": {},
   "outputs": [],
   "source": [
    "def create_output_writer(net, time_steps, output_dir):\n",
    "    ow = OutputWriter(net, time_steps, output_path=output_dir, output_file_type=\".xlsx\", log_variables=list())\n",
    "    # these variables are saved to the harddisk after / during the time series loop\n",
    "    ow.log_variable('res_load', 'p_mw')\n",
    "    ow.log_variable('res_load', 'q_mvar')\n",
    "    ow.log_variable('res_bus', 'vm_pu')\n",
    "    ow.log_variable('res_line', 'loading_percent')\n",
    "    return ow"
   ]
  },
  {
   "cell_type": "code",
   "execution_count": 8,
   "id": "a461ffa3",
   "metadata": {},
   "outputs": [],
   "source": [
    "def timeseries_example(output_dir):\n",
    "    # 1. create test net\n",
    "    # net = simple_test_net()\n",
    "    # 2. create (random) data source\n",
    "    n_timesteps = len(load_shape)\n",
    "    profiles, ds = create_data_source(n_timesteps)\n",
    "    # 3. create controllers (to control P values of the load and the sgen)\n",
    "    create_controllers(net, ds)\n",
    "\n",
    "    # time steps to be calculated. Could also be a list with non-consecutive time steps\n",
    "    time_steps = range(0, n_timesteps)\n",
    "\n",
    "    # 4. the output writer with the desired results to be stored to files.\n",
    "    ow = create_output_writer(net, time_steps, output_dir=output_dir)\n",
    "\n",
    "    # 5. the main time series function\n",
    "    run_timeseries(net, time_steps)"
   ]
  },
  {
   "cell_type": "code",
   "execution_count": 9,
   "id": "047f0b7e",
   "metadata": {},
   "outputs": [
    {
     "name": "stderr",
     "output_type": "stream",
     "text": [
      "  0%|          | 0/24 [00:00<?, ?it/s]"
     ]
    },
    {
     "name": "stdout",
     "output_type": "stream",
     "text": [
      "Results can be found in your local folder: time_series\n"
     ]
    },
    {
     "name": "stderr",
     "output_type": "stream",
     "text": [
      " 88%|████████▊ | 21/24 [00:02<00:01,  1.52it/s]"
     ]
    }
   ],
   "source": [
    "output_dir = os.path.join(\"time_series\")\n",
    "print(\"Results can be found in your local folder: {}\".format(output_dir))\n",
    "if not os.path.exists(output_dir):\n",
    "    os.mkdir(output_dir)\n",
    "timeseries_example(output_dir)\n"
   ]
  },
  {
   "cell_type": "markdown",
   "id": "8785bec4",
   "metadata": {},
   "source": [
    "In step 1, the loadshape was 100% anytime, now in step 2 it's always lower, so sate of network is better\n",
    "But no load on the charging stations yet"
   ]
  },
  {
   "cell_type": "code",
   "execution_count": null,
   "id": "f3102c70",
   "metadata": {},
   "outputs": [],
   "source": []
  }
 ],
 "metadata": {
  "kernelspec": {
   "display_name": "Python 3.8.5 ('base')",
   "language": "python",
   "name": "python3"
  },
  "language_info": {
   "codemirror_mode": {
    "name": "ipython",
    "version": 3
   },
   "file_extension": ".py",
   "mimetype": "text/x-python",
   "name": "python",
   "nbconvert_exporter": "python",
   "pygments_lexer": "ipython3",
   "version": "3.8.5"
  },
  "vscode": {
   "interpreter": {
    "hash": "8b86b5a693abe0a27b2467eb235594196157be9d968a05f62b2e89754eb0004e"
   }
  }
 },
 "nbformat": 4,
 "nbformat_minor": 5
}
